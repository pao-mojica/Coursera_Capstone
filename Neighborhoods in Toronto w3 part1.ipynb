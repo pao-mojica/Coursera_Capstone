{
    "cells": [
        {
            "cell_type": "markdown",
            "metadata": {
                "collapsed": true
            },
            "source": "<h1 align = center>SEGMENTING AND CLUSTERING NEIGHBORHOODS IN TORONTO</h1>\n"
        },
        {
            "cell_type": "code",
            "execution_count": 9,
            "metadata": {},
            "outputs": [
                {
                    "name": "stdout",
                    "output_type": "stream",
                    "text": "Libraries imported.\n"
                }
            ],
            "source": "# import libraries\n\nimport pandas as pd \nimport requests\nfrom bs4 import BeautifulSoup\nfrom urllib.request import urlopen\n\nprint('Libraries imported.')"
        },
        {
            "cell_type": "code",
            "execution_count": 10,
            "metadata": {},
            "outputs": [
                {
                    "name": "stdout",
                    "output_type": "stream",
                    "text": "Data downloaded!\n"
                }
            ],
            "source": "#  After retreiving the URL and creating a Beautiful soup object\n\ndata = requests.get('https://en.wikipedia.org/wiki/List_of_postal_codes_of_Canada:_M').text\n\nbf = BeautifulSoup(data, 'lxml')\n\nprint('Data downloaded!')\n\n"
        },
        {
            "cell_type": "code",
            "execution_count": 18,
            "metadata": {},
            "outputs": [],
            "source": " #Firstly create a list\n\ndata = []\n\n#Later after finding the table and table data  create a dictionary called cell having 3 keys PostalCode, Borough and Neighborhood.\n\ntable = bf.find('table')\ntable2 = table.find('tbody')\n\nrows = table2.find_all('tr')\nfor row in rows: #[-1:]:\n    cells = row.find_all(\"td\")\n    for cell in cells:\n        PostalCode = cell.p.b.text\n        try:\n    \n            Borough = cell.i.text\n        except: \n            \n            try:\n                Borough = cell.a.text\n            except:\n                Borough = cell.span.text\n            s = cell.span.text\n            \n            Neighborhood = s[s.find(\"(\")+1:s.find(\")\")]\n        if Borough != 'Not assigned':\n            \n# Append to the list\n            data.append((PostalCode, Borough, Neighborhood))\n            "
        },
        {
            "cell_type": "code",
            "execution_count": 19,
            "metadata": {},
            "outputs": [
                {
                    "data": {
                        "text/html": "<div>\n<style scoped>\n    .dataframe tbody tr th:only-of-type {\n        vertical-align: middle;\n    }\n\n    .dataframe tbody tr th {\n        vertical-align: top;\n    }\n\n    .dataframe thead th {\n        text-align: right;\n    }\n</style>\n<table border=\"1\" class=\"dataframe\">\n  <thead>\n    <tr style=\"text-align: right;\">\n      <th></th>\n      <th>PostalCode</th>\n      <th>Borough</th>\n      <th>Neighborhood</th>\n    </tr>\n  </thead>\n  <tbody>\n    <tr>\n      <th>0</th>\n      <td>M3A</td>\n      <td>North York</td>\n      <td>Parkwoods</td>\n    </tr>\n    <tr>\n      <th>1</th>\n      <td>M4A</td>\n      <td>North York</td>\n      <td>Victoria Village</td>\n    </tr>\n    <tr>\n      <th>2</th>\n      <td>M5A</td>\n      <td>Downtown Toronto</td>\n      <td>Regent Park / Harbourfront</td>\n    </tr>\n    <tr>\n      <th>3</th>\n      <td>M6A</td>\n      <td>North York</td>\n      <td>Lawrence Manor / Lawrence Heights</td>\n    </tr>\n    <tr>\n      <th>4</th>\n      <td>M7A</td>\n      <td>Queen's Park</td>\n      <td>Ontario Provincial Government</td>\n    </tr>\n  </tbody>\n</table>\n</div>",
                        "text/plain": "  PostalCode           Borough                       Neighborhood\n0        M3A        North York                          Parkwoods\n1        M4A        North York                   Victoria Village\n2        M5A  Downtown Toronto         Regent Park / Harbourfront\n3        M6A        North York  Lawrence Manor / Lawrence Heights\n4        M7A      Queen's Park      Ontario Provincial Government"
                    },
                    "execution_count": 19,
                    "metadata": {},
                    "output_type": "execute_result"
                }
            ],
            "source": "# **Create a dataframe with list**\ndf = pd.DataFrame(data)\ndf.columns = ['PostalCode', 'Borough', 'Neighborhood']\ndf.head()"
        }
    ],
    "metadata": {
        "kernelspec": {
            "display_name": "Python 3.7",
            "language": "python",
            "name": "python3"
        },
        "language_info": {
            "codemirror_mode": {
                "name": "ipython",
                "version": 3
            },
            "file_extension": ".py",
            "mimetype": "text/x-python",
            "name": "python",
            "nbconvert_exporter": "python",
            "pygments_lexer": "ipython3",
            "version": "3.7.10"
        }
    },
    "nbformat": 4,
    "nbformat_minor": 1
}